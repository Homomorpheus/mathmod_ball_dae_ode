{
 "cells": [
  {
   "cell_type": "code",
   "execution_count": 1,
   "id": "abda319e-48f3-440b-ab84-9b6e97230159",
   "metadata": {},
   "outputs": [],
   "source": [
    "# from sympy import *\n",
    "# %matplotlib widget\n",
    "import matplotlib.pyplot as plt\n",
    "import numpy as np\n",
    "import ipywidgets as widgets\n",
    "from IPython.display import display, clear_output\n",
    "import time\n",
    "\n",
    "import solvers"
   ]
  },
  {
   "cell_type": "code",
   "execution_count": 2,
   "id": "f4bdb47a-3664-46ec-9412-8d81ff06d650",
   "metadata": {},
   "outputs": [],
   "source": [
    "# starting position\n",
    "q0 = np.array([1, 0, 0])\n",
    "# starting velocity\n",
    "v0 = np.array([0, 0, 0]) # consistency!\n",
    "\n",
    "mass = 1\n",
    "M = np.array([[mass, 0, 0],\n",
    "              [0, mass, 0],\n",
    "              [0, 0, 0]])\n",
    "friction = 0\n",
    "C = np.array([[friction, 0, 0],\n",
    "              [0, friction, 0],\n",
    "              [0, 0, 0]])\n",
    "\n",
    "# see https://jschoeberl.github.io/IntroSC/ODEs/mechanical.html#systems-with-constraints\n",
    "force = lambda q: np.concatenate([np.array([0, -0.5]) + np.array([2*q[0]*q[2], 2*q[1]*q[2]]), np.array([q[0]**2 + q[1]**2 - 1])]) # gravity + lambda*constraint_force"
   ]
  },
  {
   "cell_type": "code",
   "execution_count": 3,
   "id": "5dc287a5-0ce8-4d5d-a340-e58e93d66dd7",
   "metadata": {},
   "outputs": [
    {
     "data": {
      "application/vnd.jupyter.widget-view+json": {
       "model_id": "e87a541ec00d447f88b47f8d6ed7236d",
       "version_major": 2,
       "version_minor": 0
      },
      "text/plain": [
       "HTML(value='-')"
      ]
     },
     "metadata": {},
     "output_type": "display_data"
    }
   ],
   "source": [
    "status = widgets.HTML(\"-\")\n",
    "display(status)"
   ]
  },
  {
   "cell_type": "code",
   "execution_count": 4,
   "id": "4b1ff1fa-b297-4f02-a7ec-ad5239412561",
   "metadata": {},
   "outputs": [],
   "source": [
    "def callback(step, new):\n",
    "    status.value = F\"step = {step}, new = {new}\"\n",
    "    \n",
    "    if (step % 3) == 0:\n",
    "        clear_output(wait=True)\n",
    "        fig, ax = plt.subplots()\n",
    "        ax.set_aspect(\"equal\")\n",
    "        ax.set(xlim=[-1.5,1.5], ylim=[-1.5,1.5])\n",
    "        ax.add_patch(plt.Circle((0, 0), 1, fill=False, edgecolor=\"black\"))\n",
    "        point = ax.plot(new[0], new[1], \"bo\", animated=True)[0]\n",
    "        plt.show()\n",
    "        time.sleep(0.005)"
   ]
  },
  {
   "cell_type": "code",
   "execution_count": 5,
   "id": "cb444ae9-b3d1-4ed0-8695-8f8fa165b8b4",
   "metadata": {},
   "outputs": [
    {
     "data": {
      "image/png": "[encoded data removed]",
      "text/plain": [
       "<Figure size 640x480 with 1 Axes>"
      ]
     },
     "metadata": {},
     "output_type": "display_data"
    },
    {
     "data": {
      "text/plain": [
       "array([-0.9898493 , -0.14212537, -0.10659044,  0.05357712, -0.37316821,\n",
       "       -0.27987729,  0.21065585, -0.4698091 , -0.35525729])"
      ]
     },
     "execution_count": 5,
     "metadata": {},
     "output_type": "execute_result"
    }
   ],
   "source": [
    "# if generalized alpha does not work any more, vary rhoinfty\n",
    "#     or try alpha-RATTLE: https://onlinelibrary.wiley.com/doi/pdf/10.1002/zamm.200610285 equations 17\n",
    "solvers.generalized_alpha(q0, v0, M, C, force, 1000, 6, callback=callback)"
   ]
  },
  {
   "cell_type": "code",
   "execution_count": null,
   "id": "346cccc4-3ac9-4e38-b0cd-e117709f1db1",
   "metadata": {},
   "outputs": [],
   "source": []
  },
  {
   "cell_type": "code",
   "execution_count": null,
   "id": "cda3ca32-2cc9-4cd6-aac6-81e66c4a7ec8",
   "metadata": {},
   "outputs": [],
   "source": []
  },
  {
   "cell_type": "code",
   "execution_count": null,
   "id": "99c353bc-74a8-4109-a650-15be1444a97a",
   "metadata": {},
   "outputs": [],
   "source": []
  }
 ],
 "metadata": {
  "kernelspec": {
   "display_name": "sc",
   "language": "python",
   "name": "sc"
  },
  "language_info": {
   "codemirror_mode": {
    "name": "ipython",
    "version": 3
   },
   "file_extension": ".py",
   "mimetype": "text/x-python",
   "name": "python",
   "nbconvert_exporter": "python",
   "pygments_lexer": "ipython3",
   "version": "3.13.2"
  }
 },
 "nbformat": 4,
 "nbformat_minor": 5
}
