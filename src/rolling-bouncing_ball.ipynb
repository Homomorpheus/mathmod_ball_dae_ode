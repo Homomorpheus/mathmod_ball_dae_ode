{
 "cells": [
  {
   "cell_type": "markdown",
   "id": "d7004d2c-baed-45cd-a0b7-f4936c20de50",
   "metadata": {},
   "source": [
    "# Rolling-Bouncing Ball"
   ]
  },
  {
   "cell_type": "code",
   "execution_count": 1,
   "id": "abda319e-48f3-440b-ab84-9b6e97230159",
   "metadata": {
    "editable": true,
    "slideshow": {
     "slide_type": ""
    },
    "tags": []
   },
   "outputs": [],
   "source": [
    "import sympy\n",
    "import numpy as np\n",
    "import ipywidgets as widgets\n",
    "from IPython.display import display, clear_output, Video, HTML, update_display\n",
    "import time\n",
    "from typing import Literal\n",
    "\n",
    "import solvers\n",
    "import geometry\n",
    "import animation"
   ]
  },
  {
   "cell_type": "code",
   "execution_count": 2,
   "id": "9b60ce7c-6b4f-4368-afb8-083bd5302ab6",
   "metadata": {
    "editable": true,
    "slideshow": {
     "slide_type": ""
    },
    "tags": []
   },
   "outputs": [],
   "source": [
    "sympy.var(\"x y\", real=True)\n",
    "\n",
    "curve = geometry.CurveConstraint(y**4 + 3*x**2 - 5*y**3 + sympy.sin(5*x) - 1, x, y, inside=\"negative\", xlim=(-5,5))"
   ]
  },
  {
   "cell_type": "code",
   "execution_count": 3,
   "id": "f4bdb47a-3664-46ec-9412-8d81ff06d650",
   "metadata": {
    "editable": true,
    "slideshow": {
     "slide_type": ""
    },
    "tags": []
   },
   "outputs": [],
   "source": [
    "gravity = lambda q, v: np.array([0, -3])\n",
    "\n",
    "ball = geometry.Ball(curve, mass=1, gravity=gravity, curve_friction=0.1, normal_cor=0.3)"
   ]
  },
  {
   "cell_type": "code",
   "execution_count": 4,
   "id": "cb444ae9-b3d1-4ed0-8695-8f8fa165b8b4",
   "metadata": {
    "editable": true,
    "slideshow": {
     "slide_type": ""
    },
    "tags": []
   },
   "outputs": [
    {
     "data": {
      "application/vnd.jupyter.widget-view+json": {
       "model_id": "73c52639dc96415d91df91fbe4b07ad3",
       "version_major": 2,
       "version_minor": 0
      },
      "text/plain": [
       "HTML(value='-')"
      ]
     },
     "metadata": {},
     "output_type": "display_data"
    },
    {
     "ename": "KeyboardInterrupt",
     "evalue": "",
     "output_type": "error",
     "traceback": [
      "\u001b[31m---------------------------------------------------------------------------\u001b[39m",
      "\u001b[31mKeyboardInterrupt\u001b[39m                         Traceback (most recent call last)",
      "\u001b[36mCell\u001b[39m\u001b[36m \u001b[39m\u001b[32mIn[4]\u001b[39m\u001b[32m, line 17\u001b[39m\n\u001b[32m     12\u001b[39m     anim.update(qnew, vnew, \u001b[32m0\u001b[39m, step-\u001b[32m1\u001b[39m, mode)\n\u001b[32m     14\u001b[39m \u001b[38;5;66;03m# if generalized alpha does not work any more, vary rhoinfty\u001b[39;00m\n\u001b[32m     15\u001b[39m \u001b[38;5;66;03m#     or try alpha-RATTLE: https://onlinelibrary.wiley.com/doi/pdf/10.1002/zamm.200610285 equations 17\u001b[39;00m\n\u001b[32m     16\u001b[39m \u001b[38;5;66;03m#     or maybe try RATTLE itself\u001b[39;00m\n\u001b[32m---> \u001b[39m\u001b[32m17\u001b[39m \u001b[43mball\u001b[49m\u001b[43m.\u001b[49m\u001b[43msimulate\u001b[49m\u001b[43m(\u001b[49m\u001b[43msteps\u001b[49m\u001b[43m,\u001b[49m\u001b[43m \u001b[49m\u001b[43mt_end\u001b[49m\u001b[43m,\u001b[49m\u001b[43m \u001b[49m\u001b[43mq0\u001b[49m\u001b[43m=\u001b[49m\u001b[43m(\u001b[49m\u001b[43m-\u001b[49m\u001b[32;43m3\u001b[39;49m\u001b[43m,\u001b[49m\u001b[43m \u001b[49m\u001b[32;43m5\u001b[39;49m\u001b[43m)\u001b[49m\u001b[43m,\u001b[49m\u001b[43m \u001b[49m\u001b[43mv_up\u001b[49m\u001b[43m=\u001b[49m\u001b[32;43m0\u001b[39;49m\u001b[43m,\u001b[49m\u001b[43m \u001b[49m\u001b[43mcallback\u001b[49m\u001b[43m=\u001b[49m\u001b[43mcallback\u001b[49m\u001b[43m)\u001b[49m \u001b[38;5;66;03m# also interesting: (-3, 5), 0; (4,5), -1; (2,2), -1; (0,5), 0\u001b[39;00m\n",
      "\u001b[36mFile \u001b[39m\u001b[32m~\\OneDrive\\Desktop\\Uni\\MathMod\\mathmod_ball_dae_ode\\src\\geometry.py:351\u001b[39m, in \u001b[36mBall.simulate\u001b[39m\u001b[34m(self, steps, t_end, q0, v_up, callback)\u001b[39m\n\u001b[32m    348\u001b[39m qold = qold[\u001b[32m0\u001b[39m:\u001b[32m2\u001b[39m]\n\u001b[32m    349\u001b[39m vold = vold[\u001b[32m0\u001b[39m:\u001b[32m2\u001b[39m]\n\u001b[32m--> \u001b[39m\u001b[32m351\u001b[39m old, step_out = \u001b[43msolvers\u001b[49m\u001b[43m.\u001b[49m\u001b[43mgeneralized_alpha\u001b[49m\u001b[43m(\u001b[49m\u001b[43mqold\u001b[49m\u001b[43m,\u001b[49m\u001b[43m \u001b[49m\u001b[43mvold\u001b[49m\u001b[43m,\u001b[49m\u001b[43m \u001b[49m\u001b[38;5;28;43mself\u001b[39;49m\u001b[43m.\u001b[49m\u001b[43mmass_mat_ode\u001b[49m\u001b[43m,\u001b[49m\u001b[43m \u001b[49m\u001b[43mnp\u001b[49m\u001b[43m.\u001b[49m\u001b[43mzeros\u001b[49m\u001b[43m(\u001b[49m\u001b[43m(\u001b[49m\u001b[32;43m2\u001b[39;49m\u001b[43m,\u001b[49m\u001b[32;43m2\u001b[39;49m\u001b[43m)\u001b[49m\u001b[43m)\u001b[49m\u001b[43m,\u001b[49m\u001b[43m \u001b[49m\u001b[38;5;28;43;01mlambda\u001b[39;49;00m\u001b[43m \u001b[49m\u001b[43mq\u001b[49m\u001b[43m,\u001b[49m\u001b[43m \u001b[49m\u001b[43mv\u001b[49m\u001b[43m:\u001b[49m\u001b[43m \u001b[49m\u001b[38;5;28;43mself\u001b[39;49m\u001b[43m.\u001b[49m\u001b[43m_mass\u001b[49m\u001b[43m*\u001b[49m\u001b[38;5;28;43mself\u001b[39;49m\u001b[43m.\u001b[49m\u001b[43m_gravity\u001b[49m\u001b[43m(\u001b[49m\u001b[43mq\u001b[49m\u001b[43m,\u001b[49m\u001b[43m \u001b[49m\u001b[43mv\u001b[49m\u001b[43m)\u001b[49m\u001b[43m,\u001b[49m\u001b[43m \u001b[49m\u001b[43msteps\u001b[49m\u001b[43m-\u001b[49m\u001b[43mstep\u001b[49m\u001b[43m,\u001b[49m\u001b[43m \u001b[49m\u001b[43mt_end\u001b[49m\u001b[43m,\u001b[49m\u001b[43m \u001b[49m\u001b[43mcallback_ode\u001b[49m\u001b[43m)\u001b[49m\n\u001b[32m    352\u001b[39m qold, vold = \u001b[38;5;28mself\u001b[39m.ode_data_to_dae_data(old)\n\u001b[32m    353\u001b[39m step += step_out\n",
      "\u001b[36mFile \u001b[39m\u001b[32m~\\OneDrive\\Desktop\\Uni\\MathMod\\mathmod_ball_dae_ode\\src\\solvers.py:63\u001b[39m, in \u001b[36mgeneralized_alpha\u001b[39m\u001b[34m(q0, v0, M, C, force, steps, t_end, callback, rhoinfty)\u001b[39m\n\u001b[32m     59\u001b[39m     \u001b[38;5;28;01mreturn\u001b[39;00m eq_eval\n\u001b[32m     61\u001b[39m \u001b[38;5;28;01mfor\u001b[39;00m step \u001b[38;5;129;01min\u001b[39;00m \u001b[38;5;28mrange\u001b[39m(\u001b[32m1\u001b[39m,steps+\u001b[32m1\u001b[39m):\n\u001b[32m     62\u001b[39m     \u001b[38;5;66;03m# solve the solver's equations\u001b[39;00m\n\u001b[32m---> \u001b[39m\u001b[32m63\u001b[39m     sol = \u001b[43mroot\u001b[49m\u001b[43m(\u001b[49m\u001b[43meqs\u001b[49m\u001b[43m,\u001b[49m\u001b[43m \u001b[49m\u001b[43mnp\u001b[49m\u001b[43m.\u001b[49m\u001b[43mconcatenate\u001b[49m\u001b[43m(\u001b[49m\u001b[43m[\u001b[49m\u001b[43mold\u001b[49m\u001b[43m,\u001b[49m\u001b[43m \u001b[49m\u001b[43mold\u001b[49m\u001b[43m]\u001b[49m\u001b[43m)\u001b[49m\u001b[43m)\u001b[49m\n\u001b[32m     65\u001b[39m     \u001b[38;5;28;01mif\u001b[39;00m \u001b[38;5;129;01mnot\u001b[39;00m sol.success:\n\u001b[32m     66\u001b[39m         \u001b[38;5;28;01mif\u001b[39;00m sol.status == \u001b[32m5\u001b[39m:\n",
      "\u001b[36mFile \u001b[39m\u001b[32m~\\AppData\\Local\\Programs\\Python\\Python313\\Lib\\site-packages\\scipy\\optimize\\_root.py:253\u001b[39m, in \u001b[36mroot\u001b[39m\u001b[34m(fun, x0, args, method, jac, tol, callback, options)\u001b[39m\n\u001b[32m    250\u001b[39m         options.setdefault(\u001b[33m'\u001b[39m\u001b[33mfatol\u001b[39m\u001b[33m'\u001b[39m, np.inf)\n\u001b[32m    252\u001b[39m \u001b[38;5;28;01mif\u001b[39;00m meth == \u001b[33m'\u001b[39m\u001b[33mhybr\u001b[39m\u001b[33m'\u001b[39m:\n\u001b[32m--> \u001b[39m\u001b[32m253\u001b[39m     sol = \u001b[43m_root_hybr\u001b[49m\u001b[43m(\u001b[49m\u001b[43m_wrapped_fun\u001b[49m\u001b[43m,\u001b[49m\u001b[43m \u001b[49m\u001b[43mx0\u001b[49m\u001b[43m,\u001b[49m\u001b[43m \u001b[49m\u001b[43margs\u001b[49m\u001b[43m=\u001b[49m\u001b[43margs\u001b[49m\u001b[43m,\u001b[49m\u001b[43m \u001b[49m\u001b[43mjac\u001b[49m\u001b[43m=\u001b[49m\u001b[43mjac\u001b[49m\u001b[43m,\u001b[49m\u001b[43m \u001b[49m\u001b[43m*\u001b[49m\u001b[43m*\u001b[49m\u001b[43moptions\u001b[49m\u001b[43m)\u001b[49m\n\u001b[32m    254\u001b[39m \u001b[38;5;28;01melif\u001b[39;00m meth == \u001b[33m'\u001b[39m\u001b[33mlm\u001b[39m\u001b[33m'\u001b[39m:\n\u001b[32m    255\u001b[39m     sol = _root_leastsq(_wrapped_fun, x0, args=args, jac=jac, **options)\n",
      "\u001b[36mFile \u001b[39m\u001b[32m~\\AppData\\Local\\Programs\\Python\\Python313\\Lib\\site-packages\\scipy\\optimize\\_minpack_py.py:249\u001b[39m, in \u001b[36m_root_hybr\u001b[39m\u001b[34m(func, x0, args, jac, col_deriv, xtol, maxfev, band, eps, factor, diag, **unknown_options)\u001b[39m\n\u001b[32m    247\u001b[39m     \u001b[38;5;28;01mif\u001b[39;00m maxfev == \u001b[32m0\u001b[39m:\n\u001b[32m    248\u001b[39m         maxfev = \u001b[32m200\u001b[39m * (n + \u001b[32m1\u001b[39m)\n\u001b[32m--> \u001b[39m\u001b[32m249\u001b[39m     retval = \u001b[43m_minpack\u001b[49m\u001b[43m.\u001b[49m\u001b[43m_hybrd\u001b[49m\u001b[43m(\u001b[49m\u001b[43mfunc\u001b[49m\u001b[43m,\u001b[49m\u001b[43m \u001b[49m\u001b[43mx0\u001b[49m\u001b[43m,\u001b[49m\u001b[43m \u001b[49m\u001b[43margs\u001b[49m\u001b[43m,\u001b[49m\u001b[43m \u001b[49m\u001b[32;43m1\u001b[39;49m\u001b[43m,\u001b[49m\u001b[43m \u001b[49m\u001b[43mxtol\u001b[49m\u001b[43m,\u001b[49m\u001b[43m \u001b[49m\u001b[43mmaxfev\u001b[49m\u001b[43m,\u001b[49m\n\u001b[32m    250\u001b[39m \u001b[43m                             \u001b[49m\u001b[43mml\u001b[49m\u001b[43m,\u001b[49m\u001b[43m \u001b[49m\u001b[43mmu\u001b[49m\u001b[43m,\u001b[49m\u001b[43m \u001b[49m\u001b[43mepsfcn\u001b[49m\u001b[43m,\u001b[49m\u001b[43m \u001b[49m\u001b[43mfactor\u001b[49m\u001b[43m,\u001b[49m\u001b[43m \u001b[49m\u001b[43mdiag\u001b[49m\u001b[43m)\u001b[49m\n\u001b[32m    251\u001b[39m \u001b[38;5;28;01melse\u001b[39;00m:\n\u001b[32m    252\u001b[39m     _check_func(\u001b[33m'\u001b[39m\u001b[33mfsolve\u001b[39m\u001b[33m'\u001b[39m, \u001b[33m'\u001b[39m\u001b[33mfprime\u001b[39m\u001b[33m'\u001b[39m, Dfun, x0, args, n, (n, n))\n",
      "\u001b[36mFile \u001b[39m\u001b[32m~\\AppData\\Local\\Programs\\Python\\Python313\\Lib\\site-packages\\scipy\\optimize\\_root.py:215\u001b[39m, in \u001b[36mroot.<locals>._wrapped_fun\u001b[39m\u001b[34m(*fargs)\u001b[39m\n\u001b[32m    210\u001b[39m \u001b[38;5;250m\u001b[39m\u001b[33;03m\"\"\"\u001b[39;00m\n\u001b[32m    211\u001b[39m \u001b[33;03mWrapped `func` to track the number of times\u001b[39;00m\n\u001b[32m    212\u001b[39m \u001b[33;03mthe function has been called.\u001b[39;00m\n\u001b[32m    213\u001b[39m \u001b[33;03m\"\"\"\u001b[39;00m\n\u001b[32m    214\u001b[39m _wrapped_fun.nfev += \u001b[32m1\u001b[39m\n\u001b[32m--> \u001b[39m\u001b[32m215\u001b[39m \u001b[38;5;28;01mreturn\u001b[39;00m \u001b[43mfun\u001b[49m\u001b[43m(\u001b[49m\u001b[43m*\u001b[49m\u001b[43mfargs\u001b[49m\u001b[43m)\u001b[49m\n",
      "\u001b[36mFile \u001b[39m\u001b[32m~\\OneDrive\\Desktop\\Uni\\MathMod\\mathmod_ball_dae_ode\\src\\solvers.py:49\u001b[39m, in \u001b[36mgeneralized_alpha.<locals>.eqs\u001b[39m\u001b[34m(new)\u001b[39m\n\u001b[32m     48\u001b[39m \u001b[38;5;28;01mdef\u001b[39;00m\u001b[38;5;250m \u001b[39m\u001b[34meqs\u001b[39m(new: np.array):\n\u001b[32m---> \u001b[39m\u001b[32m49\u001b[39m     qold, vold, aold = \u001b[43mnp\u001b[49m\u001b[43m.\u001b[49m\u001b[43msplit\u001b[49m\u001b[43m(\u001b[49m\u001b[43mold\u001b[49m\u001b[43m,\u001b[49m\u001b[43m \u001b[49m\u001b[38;5;28;43mlen\u001b[39;49m\u001b[43m(\u001b[49m\u001b[43mold\u001b[49m\u001b[43m)\u001b[49m\u001b[43m/\u001b[49m\u001b[43mdim\u001b[49m\u001b[43m)\u001b[49m\n\u001b[32m     50\u001b[39m     qnew, vnew, anew, qmid, vmid, amid = np.split(new, \u001b[38;5;28mlen\u001b[39m(new)/dim)\n\u001b[32m     52\u001b[39m     eq_eval = np.concatenate([(M\u001b[38;5;129m@amid\u001b[39m.transpose()).transpose() + (C\u001b[38;5;129m@vmid\u001b[39m.transpose()).transpose() - force(qmid, vmid),\n\u001b[32m     53\u001b[39m                               qold - qnew + h*vold + h**\u001b[32m2\u001b[39m*((\u001b[32m0.5\u001b[39m - beta)*aold + beta*anew),\n\u001b[32m     54\u001b[39m                               vold - vnew + h*((\u001b[32m1\u001b[39m - gamma)*aold + gamma*anew),\n\u001b[32m   (...)\u001b[39m\u001b[32m     57\u001b[39m                               - amid + (\u001b[32m1\u001b[39m - am)*anew + am*aold\n\u001b[32m     58\u001b[39m                               ])\n",
      "\u001b[36mFile \u001b[39m\u001b[32m~\\AppData\\Local\\Programs\\Python\\Python313\\Lib\\site-packages\\numpy\\lib\\_shape_base_impl.py:879\u001b[39m, in \u001b[36msplit\u001b[39m\u001b[34m(ary, indices_or_sections, axis)\u001b[39m\n\u001b[32m    876\u001b[39m     \u001b[38;5;28;01mif\u001b[39;00m N % sections:\n\u001b[32m    877\u001b[39m         \u001b[38;5;28;01mraise\u001b[39;00m \u001b[38;5;167;01mValueError\u001b[39;00m(\n\u001b[32m    878\u001b[39m             \u001b[33m'\u001b[39m\u001b[33marray split does not result in an equal division\u001b[39m\u001b[33m'\u001b[39m) \u001b[38;5;28;01mfrom\u001b[39;00m\u001b[38;5;250m \u001b[39m\u001b[38;5;28;01mNone\u001b[39;00m\n\u001b[32m--> \u001b[39m\u001b[32m879\u001b[39m \u001b[38;5;28;01mreturn\u001b[39;00m \u001b[43marray_split\u001b[49m\u001b[43m(\u001b[49m\u001b[43mary\u001b[49m\u001b[43m,\u001b[49m\u001b[43m \u001b[49m\u001b[43mindices_or_sections\u001b[49m\u001b[43m,\u001b[49m\u001b[43m \u001b[49m\u001b[43maxis\u001b[49m\u001b[43m)\u001b[49m\n",
      "\u001b[36mFile \u001b[39m\u001b[32m~\\AppData\\Local\\Programs\\Python\\Python313\\Lib\\site-packages\\numpy\\lib\\_shape_base_impl.py:742\u001b[39m, in \u001b[36marray_split\u001b[39m\u001b[34m(ary, indices_or_sections, axis)\u001b[39m\n\u001b[32m    738\u001b[39m \u001b[38;5;28;01mdef\u001b[39;00m\u001b[38;5;250m \u001b[39m\u001b[34m_array_split_dispatcher\u001b[39m(ary, indices_or_sections, axis=\u001b[38;5;28;01mNone\u001b[39;00m):\n\u001b[32m    739\u001b[39m     \u001b[38;5;28;01mreturn\u001b[39;00m (ary, indices_or_sections)\n\u001b[32m--> \u001b[39m\u001b[32m742\u001b[39m \u001b[38;5;129m@array_function_dispatch\u001b[39m(_array_split_dispatcher)\n\u001b[32m    743\u001b[39m \u001b[38;5;28;01mdef\u001b[39;00m\u001b[38;5;250m \u001b[39m\u001b[34marray_split\u001b[39m(ary, indices_or_sections, axis=\u001b[32m0\u001b[39m):\n\u001b[32m    744\u001b[39m \u001b[38;5;250m    \u001b[39m\u001b[33;03m\"\"\"\u001b[39;00m\n\u001b[32m    745\u001b[39m \u001b[33;03m    Split an array into multiple sub-arrays.\u001b[39;00m\n\u001b[32m    746\u001b[39m \n\u001b[32m   (...)\u001b[39m\u001b[32m    768\u001b[39m \n\u001b[32m    769\u001b[39m \u001b[33;03m    \"\"\"\u001b[39;00m\n\u001b[32m    770\u001b[39m     \u001b[38;5;28;01mtry\u001b[39;00m:\n",
      "\u001b[31mKeyboardInterrupt\u001b[39m: "
     ]
    }
   ],
   "source": [
    "t_end = 9\n",
    "steps = int(80*t_end)\n",
    "\n",
    "status = widgets.HTML(\"-\")\n",
    "display(status)\n",
    "\n",
    "anim = animation.BallAnimation(curve, [ball], steps)\n",
    "\n",
    "def callback(step, qnew, vnew, error, mode: Literal[\"dae\", \"ode\"]):\n",
    "    \n",
    "    status.value = F'<b>step {step} of {steps}</b> <progress value=\"{step}\" max=\"{steps}\"> </progress>'\n",
    "    anim.update(qnew, vnew, 0, step-1, mode)\n",
    "\n",
    "# if generalized alpha does not work any more, vary rhoinfty\n",
    "#     or try alpha-RATTLE: https://onlinelibrary.wiley.com/doi/pdf/10.1002/zamm.200610285 equations 17\n",
    "#     or maybe try RATTLE itself\n",
    "ball.simulate(steps, t_end, q0=(-3, 5), v_up=0, callback=callback) # also interesting: (-3, 5), 0; (4,5), -1; (2,2), -1; (0,5), 0"
   ]
  },
  {
   "cell_type": "code",
   "execution_count": null,
   "id": "346cccc4-3ac9-4e38-b0cd-e117709f1db1",
   "metadata": {
    "editable": true,
    "slideshow": {
     "slide_type": ""
    },
    "tags": []
   },
   "outputs": [],
   "source": [
    "# play\n",
    "HTML(anim.render(1/60))"
   ]
  },
  {
   "cell_type": "code",
   "execution_count": null,
   "id": "ef6cfdb9-b8fe-48f6-b804-fd672941c73a",
   "metadata": {
    "editable": true,
    "slideshow": {
     "slide_type": ""
    },
    "tags": []
   },
   "outputs": [],
   "source": []
  }
 ],
 "metadata": {
  "kernelspec": {
   "display_name": "Python 3 (ipykernel)",
   "language": "python",
   "name": "python3"
  },
  "language_info": {
   "codemirror_mode": {
    "name": "ipython",
    "version": 3
   },
   "file_extension": ".py",
   "mimetype": "text/x-python",
   "name": "python",
   "nbconvert_exporter": "python",
   "pygments_lexer": "ipython3",
   "version": "3.13.3"
  }
 },
 "nbformat": 4,
 "nbformat_minor": 5
}
