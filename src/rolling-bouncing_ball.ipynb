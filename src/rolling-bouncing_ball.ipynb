{
 "cells": [
  {
   "cell_type": "code",
   "execution_count": 1,
   "id": "abda319e-48f3-440b-ab84-9b6e97230159",
   "metadata": {
    "tags": []
   },
   "outputs": [],
   "source": [
    "import sympy\n",
    "import numpy as np\n",
    "import ipywidgets as widgets\n",
    "from IPython.display import display, clear_output, Video\n",
    "import time\n",
    "from typing import Literal\n",
    "\n",
    "import solvers\n",
    "import geometry\n",
    "import animation"
   ]
  },
  {
   "cell_type": "code",
   "execution_count": 2,
   "id": "9b60ce7c-6b4f-4368-afb8-083bd5302ab6",
   "metadata": {
    "editable": true,
    "slideshow": {
     "slide_type": ""
    },
    "tags": []
   },
   "outputs": [],
   "source": [
    "sympy.var(\"x y\", real=True)\n",
    "\n",
    "curve = geometry.CurveConstraint(y**4 + 3*x**2 - 5*y**3 + sympy.sin(5*x) - 1, x, y, inside=\"negative\", xlim=(-5,5))"
   ]
  },
  {
   "cell_type": "code",
   "execution_count": 3,
   "id": "f4bdb47a-3664-46ec-9412-8d81ff06d650",
   "metadata": {
    "editable": true,
    "slideshow": {
     "slide_type": ""
    },
    "tags": []
   },
   "outputs": [],
   "source": [
    "gravity = lambda q, v: np.array([0, -3])\n",
    "\n",
    "ball = geometry.Ball(curve, mass=1, gravity=gravity, curve_friction=0.1, bouncyness=0.3)"
   ]
  },
  {
   "cell_type": "code",
   "execution_count": 4,
   "id": "4b1ff1fa-b297-4f02-a7ec-ad5239412561",
   "metadata": {},
   "outputs": [],
   "source": [
    "anim = animation.BallAnimation(curve, ball)"
   ]
  },
  {
   "cell_type": "code",
   "execution_count": 5,
   "id": "cb444ae9-b3d1-4ed0-8695-8f8fa165b8b4",
   "metadata": {
    "editable": true,
    "slideshow": {
     "slide_type": ""
    },
    "tags": []
   },
   "outputs": [
    {
     "data": {
      "application/vnd.jupyter.widget-view+json": {
       "model_id": "184d7564b2994b1fae147c162fac2952",
       "version_major": 2,
       "version_minor": 0
      },
      "text/plain": [
       "HBox(children=(HTML(value='-'), IntProgress(value=0, max=720)))"
      ]
     },
     "metadata": {},
     "output_type": "display_data"
    },
    {
     "name": "stdout",
     "output_type": "stream",
     "text": [
      " message: The lower bound for the trust-region radius has been reached\n",
      " success: False\n",
      "  status: 0\n",
      "     fun: 0.012782343375899178\n",
      "       x: [-2.943e+00  2.006e+00]\n",
      "     nit: 44\n",
      "   maxcv: 1.9279601470856278e-08\n",
      "    nfev: 33\n",
      " message: The lower bound for the trust-region radius has been reached\n",
      " success: False\n",
      "  status: 0\n",
      "     fun: 0.039614849357470526\n",
      "       x: [-2.983e-01 -6.731e-01]\n",
      "     nit: 46\n",
      "   maxcv: 4.688219412685157e-08\n",
      "    nfev: 34\n",
      " message: The lower bound for the trust-region radius has been reached\n",
      " success: False\n",
      "  status: 0\n",
      "     fun: 0.0011647086746992689\n",
      "       x: [ 1.468e-02 -5.505e-01]\n",
      "     nit: 41\n",
      "   maxcv: 2.825433988995485e-07\n",
      "    nfev: 34\n"
     ]
    }
   ],
   "source": [
    "t_end = 9\n",
    "steps = 80*t_end\n",
    "\n",
    "status = [widgets.HTML(\"-\"), widgets.IntProgress(value=0, min=0, max=steps, description=\"\")]\n",
    "display(widgets.HBox(status))\n",
    "\n",
    "def callback(step, qnew, vnew, error, mode: Literal[\"dae\", \"ode\"]):\n",
    "    \n",
    "    status[0].value = F\"<b>step {step} of {steps}</b>\"\n",
    "    status[1].value = step\n",
    "    anim.update(qnew, vnew, mode)\n",
    "\n",
    "# if generalized alpha does not work any more, vary rhoinfty\n",
    "#     or try alpha-RATTLE: https://onlinelibrary.wiley.com/doi/pdf/10.1002/zamm.200610285 equations 17\n",
    "#     or maybe try RATTLE itself\n",
    "ball.simulate(steps, t_end, q0=(-3, 5), v_up=0, callback=callback) # also interesting: (-3, 5), 0; (4,5), -1; (2,2), -1; (0,5), 0"
   ]
  },
  {
   "cell_type": "code",
   "execution_count": 6,
   "id": "346cccc4-3ac9-4e38-b0cd-e117709f1db1",
   "metadata": {
    "editable": true,
    "slideshow": {
     "slide_type": ""
    },
    "tags": []
   },
   "outputs": [
    {
     "name": "stderr",
     "output_type": "stream",
     "text": [
      "C:\\Users\\helen\\AppData\\Local\\Programs\\Python\\Python313\\Lib\\site-packages\\matplotlib\\cbook.py:1719: ComplexWarning: Casting complex values to real discards the imaginary part\n",
      "  return math.isfinite(val)\n",
      "C:\\Users\\helen\\AppData\\Local\\Programs\\Python\\Python313\\Lib\\site-packages\\numpy\\ma\\core.py:2892: ComplexWarning: Casting complex values to real discards the imaginary part\n",
      "  _data = np.array(data, dtype=dtype, copy=copy,\n"
     ]
    },
    {
     "data": {
      "application/vnd.jupyter.widget-view+json": {
       "model_id": "d79a5d23083a4bde9db82d3da81322c1",
       "version_major": 2,
       "version_minor": 0
      },
      "text/plain": [
       "HBox(children=(HTML(value='-'), IntProgress(value=0, max=719)))"
      ]
     },
     "metadata": {},
     "output_type": "display_data"
    },
    {
     "data": {
      "text/html": [
       "<video src=\"../docs/_static/blob.mp4\" controls  >\n",
       "      Your browser does not support the <code>video</code> element.\n",
       "    </video>"
      ],
      "text/plain": [
       "<IPython.core.display.Video object>"
      ]
     },
     "execution_count": 6,
     "metadata": {},
     "output_type": "execute_result"
    }
   ],
   "source": [
    "# save to file, display\n",
    "filename = \"../docs/_static/blob.mp4\"\n",
    "anim.render(1/60, filename)\n",
    "Video(filename)"
   ]
  },
  {
   "cell_type": "code",
   "execution_count": null,
   "id": "ef6cfdb9-b8fe-48f6-b804-fd672941c73a",
   "metadata": {
    "editable": true,
    "slideshow": {
     "slide_type": ""
    },
    "tags": []
   },
   "outputs": [],
   "source": []
  }
 ],
 "metadata": {
  "kernelspec": {
   "display_name": "Python 3 (ipykernel)",
   "language": "python",
   "name": "python3"
  },
  "language_info": {
   "codemirror_mode": {
    "name": "ipython",
    "version": 3
   },
   "file_extension": ".py",
   "mimetype": "text/x-python",
   "name": "python",
   "nbconvert_exporter": "python",
   "pygments_lexer": "ipython3",
   "version": "3.13.3"
  }
 },
 "nbformat": 4,
 "nbformat_minor": 5
}
