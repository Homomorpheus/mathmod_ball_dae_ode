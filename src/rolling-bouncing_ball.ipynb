{
 "cells": [
  {
   "cell_type": "code",
   "execution_count": 1,
   "id": "abda319e-48f3-440b-ab84-9b6e97230159",
   "metadata": {
    "tags": []
   },
   "outputs": [],
   "source": [
    "import sympy\n",
    "import numpy as np\n",
    "import ipywidgets as widgets\n",
    "from IPython.display import display, clear_output, Video\n",
    "import time\n",
    "from typing import Literal\n",
    "\n",
    "import solvers\n",
    "import geometry\n",
    "import animation"
   ]
  },
  {
   "cell_type": "code",
   "execution_count": 2,
   "id": "9b60ce7c-6b4f-4368-afb8-083bd5302ab6",
   "metadata": {},
   "outputs": [],
   "source": [
    "sympy.var(\"x y\", real=True)\n",
    "\n",
    "curve = geometry.CurveConstraint(y**4 + 3*x**2 - 5*y**3 + sympy.sin(5*x) - 1, x, y, inside=\"negative\", xlim=(-5,5))"
   ]
  },
  {
   "cell_type": "code",
   "execution_count": 3,
   "id": "f4bdb47a-3664-46ec-9412-8d81ff06d650",
   "metadata": {},
   "outputs": [],
   "source": [
    "gravity = lambda q, v: np.array([0, -3])\n",
    "\n",
    "ball = geometry.Ball(curve, mass=1, gravity=gravity, curve_friction=0.1, bouncyness=0.6)"
   ]
  },
  {
   "cell_type": "code",
   "execution_count": 4,
   "id": "4b1ff1fa-b297-4f02-a7ec-ad5239412561",
   "metadata": {},
   "outputs": [],
   "source": [
    "anim = animation.BallAnimation(curve, ball)"
   ]
  },
  {
   "cell_type": "code",
   "execution_count": 5,
   "id": "cb444ae9-b3d1-4ed0-8695-8f8fa165b8b4",
   "metadata": {},
   "outputs": [
    {
     "data": {
      "application/vnd.jupyter.widget-view+json": {
       "model_id": "e4e19f91f5b2466b9dbd78c3e42a6fe3",
       "version_major": 2,
       "version_minor": 0
      },
      "text/plain": [
       "HBox(children=(HTML(value='-'), IntProgress(value=0, max=800)))"
      ]
     },
     "metadata": {},
     "output_type": "display_data"
    },
    {
     "name": "stdout",
     "output_type": "stream",
     "text": [
      " message: The lower bound for the trust-region radius has been reached\n",
      " success: False\n",
      "  status: 0\n",
      "     fun: 0.012782343375899178\n",
      "       x: [-2.943e+00  2.006e+00]\n",
      "     nit: 44\n",
      "   maxcv: 1.9279601470856278e-08\n",
      "    nfev: 33\n"
     ]
    }
   ],
   "source": [
    "t_end = 10\n",
    "steps = 80*t_end\n",
    "\n",
    "status = [widgets.HTML(\"-\"), widgets.IntProgress(value=0, min=0, max=steps, description=\"\")]\n",
    "display(widgets.HBox(status))\n",
    "\n",
    "def callback(step, qnew, vnew, error, mode: Literal[\"dae\", \"ode\"]):\n",
    "    \n",
    "    status[0].value = F\"<b>step {step} of {steps}</b>\"\n",
    "    status[1].value = step\n",
    "    anim.update(qnew, vnew, mode)\n",
    "\n",
    "# if generalized alpha does not work any more, vary rhoinfty\n",
    "#     or try alpha-RATTLE: https://onlinelibrary.wiley.com/doi/pdf/10.1002/zamm.200610285 equations 17\n",
    "#     or maybe try RATTLE itself\n",
    "ball.simulate(steps, t_end, q0=(-3, 5), v_up=0, callback=callback) # also interesting: (4,5), -1; (2,2), -1; (0,5), 0"
   ]
  },
  {
   "cell_type": "code",
   "execution_count": 6,
   "id": "346cccc4-3ac9-4e38-b0cd-e117709f1db1",
   "metadata": {},
   "outputs": [
    {
     "name": "stderr",
     "output_type": "stream",
     "text": [
      "C:\\Users\\helen\\AppData\\Local\\Programs\\Python\\Python313\\Lib\\site-packages\\matplotlib\\cbook.py:1719: ComplexWarning: Casting complex values to real discards the imaginary part\n",
      "  return math.isfinite(val)\n",
      "C:\\Users\\helen\\AppData\\Local\\Programs\\Python\\Python313\\Lib\\site-packages\\numpy\\ma\\core.py:2892: ComplexWarning: Casting complex values to real discards the imaginary part\n",
      "  _data = np.array(data, dtype=dtype, copy=copy,\n"
     ]
    },
    {
     "data": {
      "application/vnd.jupyter.widget-view+json": {
       "model_id": "a8bf1f93c7ec44d6ace3900bdfdc34e2",
       "version_major": 2,
       "version_minor": 0
      },
      "text/plain": [
       "HBox(children=(HTML(value='-'), IntProgress(value=0, max=800)))"
      ]
     },
     "metadata": {},
     "output_type": "display_data"
    },
    {
     "name": "stderr",
     "output_type": "stream",
     "text": [
      "Animation size has reached 21000603 bytes, exceeding the limit of 20971520.0. If you're sure you want a larger animation embedded, set the animation.embed_limit rc parameter to a larger value (in MB). This and further frames will be dropped.\n"
     ]
    },
    {
     "data": {
      "text/html": [
       "<video src=\"../docs/_static/blob.html\" controls  >\n",
       "      Your browser does not support the <code>video</code> element.\n",
       "    </video>"
      ],
      "text/plain": [
       "<IPython.core.display.Video object>"
      ]
     },
     "execution_count": 6,
     "metadata": {},
     "output_type": "execute_result"
    }
   ],
   "source": [
    "# save to file, display\n",
    "filename = \"../docs/_static/blob.html\"\n",
    "anim.render(1/90, filename)\n",
    "Video(filename)"
   ]
  },
  {
   "cell_type": "code",
   "execution_count": null,
   "id": "1eab1f8d-9aa4-4944-b48c-4e4cef3a144d",
   "metadata": {},
   "outputs": [],
   "source": []
  }
 ],
 "metadata": {
  "kernelspec": {
   "display_name": "Python 3 (ipykernel)",
   "language": "python",
   "name": "python3"
  },
  "language_info": {
   "codemirror_mode": {
    "name": "ipython",
    "version": 3
   },
   "file_extension": ".py",
   "mimetype": "text/x-python",
   "name": "python",
   "nbconvert_exporter": "python",
   "pygments_lexer": "ipython3",
   "version": "3.13.3"
  }
 },
 "nbformat": 4,
 "nbformat_minor": 5
}
