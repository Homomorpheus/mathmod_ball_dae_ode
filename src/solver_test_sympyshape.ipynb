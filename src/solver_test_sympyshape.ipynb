{
 "cells": [
  {
   "cell_type": "code",
   "execution_count": 1,
   "id": "abda319e-48f3-440b-ab84-9b6e97230159",
   "metadata": {},
   "outputs": [],
   "source": [
    "import sympy\n",
    "# %matplotlib widget\n",
    "import matplotlib.pyplot as plt\n",
    "import numpy as np\n",
    "import ipywidgets as widgets\n",
    "from IPython.display import display, clear_output\n",
    "import time\n",
    "\n",
    "import solvers\n",
    "import curve_constraint"
   ]
  },
  {
   "cell_type": "code",
   "execution_count": 2,
   "id": "9b60ce7c-6b4f-4368-afb8-083bd5302ab6",
   "metadata": {},
   "outputs": [],
   "source": [
    "sympy.var(\"x y\", real=True)\n",
    "\n",
    "# shape = sympy.solve(x**2 + y**2 - 1, y)\n",
    "circle = curve_constraint.CurveConstraint(x**2 + y**2 - 1, x, y)"
   ]
  },
  {
   "cell_type": "code",
   "execution_count": 3,
   "id": "f4bdb47a-3664-46ec-9412-8d81ff06d650",
   "metadata": {},
   "outputs": [
    {
     "name": "stdout",
     "output_type": "stream",
     "text": [
      "[0.70710679 0.70710677 0.        ] [ 0.70710678 -0.70710678  0.        ]\n"
     ]
    }
   ],
   "source": [
    "# ensure consistent starting values\n",
    "q0, v0 = circle.start_projection((1, 1), -1)\n",
    "print(q0, v0)\n",
    "\n",
    "mass = 1\n",
    "M = np.array([[mass, 0, 0],\n",
    "              [0, mass, 0],\n",
    "              [0, 0, 0]])\n",
    "friction = 0.01\n",
    "C = np.array([[friction, 0, 0],\n",
    "              [0, friction, 0],\n",
    "              [0, 0, 0]])\n",
    "\n",
    "# see https://jschoeberl.github.io/IntroSC/ODEs/mechanical.html#systems-with-constraints\n",
    "# force = lambda q: np.concatenate([np.array([0, -0.5]) + np.array([2*q[0]*q[2], 2*q[1]*q[2]]), np.array([q[0]**2 + q[1]**2 - 1])]) # gravity + lambda*constraint_force\n",
    "force = circle.force_to_constraint_force(lambda q: np.array([0, -0.5]))"
   ]
  },
  {
   "cell_type": "code",
   "execution_count": 4,
   "id": "5dc287a5-0ce8-4d5d-a340-e58e93d66dd7",
   "metadata": {},
   "outputs": [
    {
     "data": {
      "application/vnd.jupyter.widget-view+json": {
       "model_id": "1c5960903010474598f95af5bf57b33d",
       "version_major": 2,
       "version_minor": 0
      },
      "text/plain": [
       "HTML(value='-')"
      ]
     },
     "metadata": {},
     "output_type": "display_data"
    }
   ],
   "source": [
    "status = widgets.HTML(\"-\")\n",
    "display(status)"
   ]
  },
  {
   "cell_type": "code",
   "execution_count": 5,
   "id": "4b1ff1fa-b297-4f02-a7ec-ad5239412561",
   "metadata": {},
   "outputs": [],
   "source": [
    "def callback(step, new):\n",
    "    status.value = F\"step = {step}, new = {new}\"\n",
    "    \n",
    "    if (step % 3) == 0:\n",
    "        clear_output(wait=True)\n",
    "        fig, ax = plt.subplots()\n",
    "        ax.set_aspect(\"equal\")\n",
    "        ax.set(xlim=[-1.5,1.5], ylim=[-1.5,1.5])\n",
    "        circle.plot(ax)\n",
    "        point = ax.plot(new[0], new[1], \"bo\", animated=True)[0]\n",
    "        plt.show()\n",
    "        time.sleep(0.005)"
   ]
  },
  {
   "cell_type": "code",
   "execution_count": 6,
   "id": "cb444ae9-b3d1-4ed0-8695-8f8fa165b8b4",
   "metadata": {},
   "outputs": [
    {
     "data": {
      "image/png": "[encoded data removed]",
      "text/plain": [
       "<Figure size 640x480 with 1 Axes>"
      ]
     },
     "metadata": {},
     "output_type": "display_data"
    },
    {
     "data": {
      "text/plain": [
       "array([ 0.97662263,  0.21498841, -0.60860221,  0.24745268, -1.1240508 ,\n",
       "       -0.82977635, -1.18994715, -0.75113723, -0.5538657 ])"
      ]
     },
     "execution_count": 6,
     "metadata": {},
     "output_type": "execute_result"
    }
   ],
   "source": [
    "# if generalized alpha does not work any more, vary rhoinfty\n",
    "#     or try alpha-RATTLE: https://onlinelibrary.wiley.com/doi/pdf/10.1002/zamm.200610285 equations 17\n",
    "solvers.generalized_alpha(q0, v0, M, C, force, 1000, 6, callback=callback)"
   ]
  },
  {
   "cell_type": "code",
   "execution_count": null,
   "id": "346cccc4-3ac9-4e38-b0cd-e117709f1db1",
   "metadata": {},
   "outputs": [],
   "source": []
  },
  {
   "cell_type": "code",
   "execution_count": null,
   "id": "cda3ca32-2cc9-4cd6-aac6-81e66c4a7ec8",
   "metadata": {},
   "outputs": [],
   "source": []
  },
  {
   "cell_type": "code",
   "execution_count": null,
   "id": "417d10f0-b887-4b19-9781-2a792ae00de2",
   "metadata": {},
   "outputs": [],
   "source": []
  },
  {
   "cell_type": "code",
   "execution_count": null,
   "id": "b42f6a3d-e044-4bb0-a0c9-e60dab104a50",
   "metadata": {},
   "outputs": [],
   "source": []
  }
 ],
 "metadata": {
  "kernelspec": {
   "display_name": "sc",
   "language": "python",
   "name": "sc"
  },
  "language_info": {
   "codemirror_mode": {
    "name": "ipython",
    "version": 3
   },
   "file_extension": ".py",
   "mimetype": "text/x-python",
   "name": "python",
   "nbconvert_exporter": "python",
   "pygments_lexer": "ipython3",
   "version": "3.13.2"
  }
 },
 "nbformat": 4,
 "nbformat_minor": 5
}
