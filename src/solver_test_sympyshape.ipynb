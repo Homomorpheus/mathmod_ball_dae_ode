{
 "cells": [
  {
   "cell_type": "code",
   "execution_count": 1,
   "id": "abda319e-48f3-440b-ab84-9b6e97230159",
   "metadata": {},
   "outputs": [],
   "source": [
    "import sympy\n",
    "# %matplotlib widget\n",
    "import numpy as np\n",
    "import ipywidgets as widgets\n",
    "from IPython.display import display, clear_output, Video\n",
    "import time\n",
    "\n",
    "import solvers\n",
    "import curve_constraint\n",
    "import animation"
   ]
  },
  {
   "cell_type": "code",
   "execution_count": 2,
   "id": "9b60ce7c-6b4f-4368-afb8-083bd5302ab6",
   "metadata": {},
   "outputs": [],
   "source": [
    "sympy.var(\"x y\", real=True)\n",
    "\n",
    "curve = curve_constraint.CurveConstraint(y**4 + 3*x**2 - 5*y**3 + sympy.sin(5*x) - 1, x, y, xlim=(-5,5))"
   ]
  },
  {
   "cell_type": "code",
   "execution_count": 3,
   "id": "f4bdb47a-3664-46ec-9412-8d81ff06d650",
   "metadata": {},
   "outputs": [
    {
     "name": "stdout",
     "output_type": "stream",
     "text": [
      "[2.29300334 1.59797133 0.        ] [-0.80814392 -0.58898506  0.        ]\n",
      "-0.45881081614202546\n"
     ]
    }
   ],
   "source": [
    "# ensure consistent starting values\n",
    "q0, v0 = curve.start_projection((2, 2), -1)\n",
    "print(q0, v0)\n",
    "print(curve.curvature(q0))\n",
    "\n",
    "mass = 1\n",
    "M = np.array([[mass, 0, 0],\n",
    "              [0, mass, 0],\n",
    "              [0, 0, 0]])\n",
    "friction = 0.1\n",
    "C = np.array([[friction, 0, 0],\n",
    "              [0, friction, 0],\n",
    "              [0, 0, 0]])\n",
    "\n",
    "# see https://jschoeberl.github.io/IntroSC/ODEs/mechanical.html#systems-with-constraints\n",
    "# (gravity + lambda*constraint_force, constraint)\n",
    "force = curve.force_to_constraint_force(lambda q: np.array([0, -0.5]))"
   ]
  },
  {
   "cell_type": "code",
   "execution_count": 4,
   "id": "4b1ff1fa-b297-4f02-a7ec-ad5239412561",
   "metadata": {},
   "outputs": [],
   "source": [
    "anim = animation.DotAnimation(curve)"
   ]
  },
  {
   "cell_type": "code",
   "execution_count": 5,
   "id": "cb444ae9-b3d1-4ed0-8695-8f8fa165b8b4",
   "metadata": {},
   "outputs": [
    {
     "data": {
      "application/vnd.jupyter.widget-view+json": {
       "model_id": "e8e05c73640041fda7222c5be853fd47",
       "version_major": 2,
       "version_minor": 0
      },
      "text/plain": [
       "HBox(children=(HTML(value='-'), IntProgress(value=0, max=250)))"
      ]
     },
     "metadata": {},
     "output_type": "display_data"
    },
    {
     "data": {
      "text/plain": [
       "array([-0.84428971,  0.78258639,  0.01291065,  0.39118154, -0.39933752,\n",
       "        0.04068602, -0.13324084, -0.55330054,  0.00240346])"
      ]
     },
     "execution_count": 5,
     "metadata": {},
     "output_type": "execute_result"
    }
   ],
   "source": [
    "t_end = 10\n",
    "steps = 25*t_end\n",
    "\n",
    "status = [widgets.HTML(\"-\"), widgets.IntProgress(value=0, min=0, max=steps, description=\"\")]\n",
    "display(widgets.HBox(status))\n",
    "\n",
    "def callback(step, new, error):\n",
    "    status[0].value = F\"<b>step {step} of {steps}</b>\"\n",
    "    status[1].value = step\n",
    "    if (step%3) == 0:\n",
    "        anim.update(new)\n",
    "\n",
    "# if generalized alpha does not work any more, vary rhoinfty\n",
    "#     or try alpha-RATTLE: https://onlinelibrary.wiley.com/doi/pdf/10.1002/zamm.200610285 equations 17\n",
    "\n",
    "solvers.generalized_alpha(q0, v0, M, C, force, steps, t_end, callback)"
   ]
  },
  {
   "cell_type": "code",
   "execution_count": 6,
   "id": "346cccc4-3ac9-4e38-b0cd-e117709f1db1",
   "metadata": {},
   "outputs": [
    {
     "name": "stderr",
     "output_type": "stream",
     "text": [
      "/home/norberth/venveria/venvs/sc/lib/python3.13/site-packages/matplotlib/cbook.py:1709: ComplexWarning: Casting complex values to real discards the imaginary part\n",
      "  return math.isfinite(val)\n",
      "/home/norberth/venveria/venvs/sc/lib/python3.13/site-packages/numpy/ma/core.py:2892: ComplexWarning: Casting complex values to real discards the imaginary part\n",
      "  _data = np.array(data, dtype=dtype, copy=copy,\n"
     ]
    },
    {
     "data": {
      "text/html": [
       "<video src=\"../docs/_static/blob.mp4\" controls  >\n",
       "      Your browser does not support the <code>video</code> element.\n",
       "    </video>"
      ],
      "text/plain": [
       "<IPython.core.display.Video object>"
      ]
     },
     "execution_count": 6,
     "metadata": {},
     "output_type": "execute_result"
    }
   ],
   "source": [
    "# save to file\n",
    "anim.render(1/30, \"../docs/_static/blob.mp4\")\n",
    "Video(\"../docs/_static/blob.mp4\")"
   ]
  },
  {
   "cell_type": "code",
   "execution_count": null,
   "id": "6a2c6f12-7b2b-4e1b-a582-f2d16c8fed26",
   "metadata": {},
   "outputs": [],
   "source": []
  }
 ],
 "metadata": {
  "kernelspec": {
   "display_name": "sc",
   "language": "python",
   "name": "sc"
  },
  "language_info": {
   "codemirror_mode": {
    "name": "ipython",
    "version": 3
   },
   "file_extension": ".py",
   "mimetype": "text/x-python",
   "name": "python",
   "nbconvert_exporter": "python",
   "pygments_lexer": "ipython3",
   "version": "3.13.2"
  }
 },
 "nbformat": 4,
 "nbformat_minor": 5
}
